{
 "cells": [
  {
   "cell_type": "markdown",
   "id": "ae6e56b1",
   "metadata": {},
   "source": [
    "## Story generation with ScratchPlot"
   ]
  },
  {
   "cell_type": "code",
   "execution_count": null,
   "id": "d4fa8508",
   "metadata": {},
   "outputs": [],
   "source": [
    "import nltk\n",
    "nltk.download('punkt')\n",
    "nltk.download('stopwords')"
   ]
  },
  {
   "cell_type": "code",
   "execution_count": null,
   "id": "620c9705",
   "metadata": {},
   "outputs": [],
   "source": [
    "#!python ./scratchplot-story-generation/scripts/movie_plot/generate_instructions_single.py"
   ]
  },
  {
   "cell_type": "code",
   "execution_count": 26,
   "id": "338f689c",
   "metadata": {},
   "outputs": [
    {
     "name": "stdout",
     "output_type": "stream",
     "text": [
      "Parameters: Namespace(output_dir='./scratchplot-story-generation/movie_exp/scenes', task_file='./scratchplot-story-generation/movie_exp/scenes/plot-scene.json', model_name='text-davinci-003', openai_api_key=\"''\", max_output_length=100, decay_constant=100, top_p=0.9, top_k=30, input_file=None, input_file_type='plain', num_entries_per_input_and_label=None, num_entries_per_label=30, batch_size=1, remove_duplicates=True, remove_identical_pairs=True, keep_outputs_without_eos=True, ignore_eos=True, allow_newlines_in_outputs=True, min_num_words=-1, min_num_tokens=-1, no_cuda=False, seed=42, date='11/09/2023 20:50:57')\n",
      "Using OpenAI's GPT3 (text-davinci-003) as generator. The following parameters are ignored: ['decay_constant', 'top_k']\n",
      "Starting dataset generation with DINO...\n",
      "Dataset generation complete, dataset contains 9 entries\n",
      "Done saving dataset to file './scratchplot-story-generation/movie_exp/scenes\\plot-scene-dataset.jsonl'\n"
     ]
    },
    {
     "name": "stderr",
     "output_type": "stream",
     "text": [
      "\n",
      "Dataset Entries:   0%|          | 0/30 [00:00<?, ?it/s]\n",
      "Dataset Entries:   3%|3         | 1/30 [00:00<00:11,  2.53it/s]\n",
      "Dataset Entries:   7%|6         | 2/30 [00:00<00:08,  3.32it/s]\n",
      "Dataset Entries:  10%|#         | 3/30 [00:00<00:08,  3.16it/s]\n",
      "Dataset Entries:  13%|#3        | 4/30 [00:01<00:07,  3.42it/s]\n",
      "Dataset Entries:  17%|#6        | 5/30 [00:01<00:06,  3.60it/s]\n",
      "Dataset Entries:  20%|##        | 6/30 [00:01<00:06,  3.59it/s]\n",
      "Dataset Entries:  23%|##3       | 7/30 [00:02<00:06,  3.56it/s]\n",
      "Dataset Entries:  27%|##6       | 8/30 [00:02<00:05,  3.75it/s]\n",
      "Dataset Entries:  30%|###       | 9/30 [00:02<00:06,  3.49it/s]\n",
      "Dataset Entries:  33%|###3      | 10/30 [00:02<00:05,  3.57it/s]\n",
      "Dataset Entries:  37%|###6      | 11/30 [00:03<00:05,  3.76it/s]\n",
      "Dataset Entries:  40%|####      | 12/30 [00:03<00:04,  3.69it/s]\n",
      "Dataset Entries:  43%|####3     | 13/30 [00:03<00:04,  3.41it/s]\n",
      "Dataset Entries:  47%|####6     | 14/30 [00:04<00:04,  3.44it/s]\n",
      "Dataset Entries:  50%|#####     | 15/30 [00:04<00:04,  3.48it/s]\n",
      "Dataset Entries:  53%|#####3    | 16/30 [00:04<00:03,  3.56it/s]\n",
      "Dataset Entries:  57%|#####6    | 17/30 [00:04<00:03,  3.67it/s]\n",
      "Dataset Entries:  60%|######    | 18/30 [00:05<00:03,  3.72it/s]\n",
      "Dataset Entries:  63%|######3   | 19/30 [00:05<00:02,  3.73it/s]\n",
      "Dataset Entries:  67%|######6   | 20/30 [00:05<00:02,  3.46it/s]\n",
      "Dataset Entries:  70%|#######   | 21/30 [00:06<00:02,  3.32it/s]\n",
      "Dataset Entries:  73%|#######3  | 22/30 [00:06<00:02,  2.99it/s]\n",
      "Dataset Entries:  77%|#######6  | 23/30 [00:06<00:02,  3.28it/s]\n",
      "Dataset Entries:  80%|########  | 24/30 [00:06<00:01,  3.24it/s]\n",
      "Dataset Entries:  83%|########3 | 25/30 [00:07<00:01,  3.50it/s]\n",
      "Dataset Entries:  87%|########6 | 26/30 [00:07<00:01,  3.12it/s]\n",
      "Dataset Entries:  90%|######### | 27/30 [00:07<00:00,  3.03it/s]\n",
      "Dataset Entries:  93%|#########3| 28/30 [00:08<00:00,  3.23it/s]\n",
      "Dataset Entries:  97%|#########6| 29/30 [00:08<00:00,  3.14it/s]\n",
      "Dataset Entries: 100%|##########| 30/30 [00:10<00:00,  1.08it/s]\n",
      "Dataset Entries: 100%|##########| 30/30 [00:10<00:00,  2.75it/s]\n"
     ]
    }
   ],
   "source": [
    "# generate story body\n",
    "!python ./scratchplot-story-generation/dino.py \\\n",
    " --output_dir ./scratchplot-story-generation/movie_exp/scenes \\\n",
    " --task_file ./scratchplot-story-generation/movie_exp/scenes/plot-scene.json \\\n",
    " --num_entries_per_label 30 \\\n",
    " --max_output_length 100 \\\n",
    " --top_k 30 \\\n",
    " --keep_outputs_without_eos \\\n",
    " --allow_newlines_in_outputs \\\n",
    " --batch_size 10 \\\n",
    " --ignore_eos \\\n",
    " --openai_api_key ''"
   ]
  },
  {
   "cell_type": "code",
   "execution_count": 28,
   "id": "f5f5b59b",
   "metadata": {},
   "outputs": [
    {
     "name": "stdout",
     "output_type": "stream",
     "text": [
      "Namespace(task='scene', input_file='plot-scene-dataset.jsonl', metadata_file='plot-scene-input.json', output_file='plot-scene-dataset.jsonl', spec_file='plot-scene.json', spec_dir='./scratchplot-story-generation/movie_exp/scenes/', output_dir='./scratchplot-story-generation/movie_exp/scenes/')\n",
      "After filtering, 10 entries remain.\n"
     ]
    }
   ],
   "source": [
    "!python ./scratchplot-story-generation/scripts/movie_plot/post_process.py --task scene"
   ]
  },
  {
   "cell_type": "code",
   "execution_count": 29,
   "id": "0d5045fa",
   "metadata": {},
   "outputs": [
    {
     "name": "stdout",
     "output_type": "stream",
     "text": [
      "Parameters: Namespace(output_dir='./scratchplot-story-generation/movie_exp/scenes', task_file='./scratchplot-story-generation/movie_exp/scenes/final-plot-scene.json', model_name='text-davinci-003', openai_api_key=\"''\", max_output_length=50, decay_constant=100, top_p=0.9, top_k=30, input_file='./scratchplot-story-generation/movie_exp/scenes/plot-scene-dataset.jsonl', input_file_type='jsonl', num_entries_per_input_and_label=10, num_entries_per_label=None, batch_size=None, remove_duplicates=True, remove_identical_pairs=True, keep_outputs_without_eos=False, ignore_eos=False, allow_newlines_in_outputs=True, min_num_words=-1, min_num_tokens=10, no_cuda=False, seed=42, date='11/09/2023 20:59:31')\n",
      "Done loading 10 inputs from file './scratchplot-story-generation/movie_exp/scenes/plot-scene-dataset.jsonl'\n",
      "Using OpenAI's GPT3 (text-davinci-003) as generator. The following parameters are ignored: ['decay_constant', 'top_k']\n",
      "Starting dataset generation with DINO...\n",
      "Dataset generation complete, dataset contains 0 entries\n",
      "Done saving dataset to file './scratchplot-story-generation/movie_exp/scenes\\plot-scene-dataset.jsonl'\n"
     ]
    },
    {
     "name": "stderr",
     "output_type": "stream",
     "text": [
      "\n",
      "Dataset Entries:   0%|          | 0/10 [00:00<?, ?it/s]\n",
      "Dataset Entries:  10%|#         | 1/10 [00:11<01:40, 11.12s/it]\n",
      "Dataset Entries:  20%|##        | 2/10 [00:23<01:33, 11.66s/it]\n",
      "Dataset Entries:  30%|###       | 3/10 [00:33<01:17, 11.03s/it]\n",
      "Dataset Entries:  40%|####      | 4/10 [00:45<01:08, 11.45s/it]\n",
      "Dataset Entries:  50%|#####     | 5/10 [01:00<01:04, 12.81s/it]\n",
      "Dataset Entries:  60%|######    | 6/10 [01:14<00:52, 13.03s/it]\n",
      "Dataset Entries:  70%|#######   | 7/10 [01:24<00:36, 12.27s/it]\n",
      "Dataset Entries:  80%|########  | 8/10 [01:37<00:24, 12.39s/it]\n",
      "Dataset Entries:  90%|######### | 9/10 [01:50<00:12, 12.61s/it]\n",
      "Dataset Entries: 100%|##########| 10/10 [02:02<00:00, 12.49s/it]\n",
      "Dataset Entries: 100%|##########| 10/10 [02:02<00:00, 12.29s/it]\n"
     ]
    }
   ],
   "source": [
    "!python ./scratchplot-story-generation/dino.py \\\n",
    " --output_dir ./scratchplot-story-generation/movie_exp/scenes \\\n",
    " --task_file ./scratchplot-story-generation/movie_exp/scenes/final-plot-scene.json \\\n",
    " --input_file ./scratchplot-story-generation/movie_exp/scenes/plot-scene-dataset.jsonl \\\n",
    " --input_file_type jsonl \\\n",
    " --num_entries_per_input_and_label 10 \\\n",
    " --min_num_tokens 10 \\\n",
    " --max_output_length 50 \\\n",
    " --top_k 30 \\\n",
    " --allow_newlines_in_outputs \\\n",
    " --openai_api_key ''"
   ]
  },
  {
   "cell_type": "code",
   "execution_count": 14,
   "id": "3098f970",
   "metadata": {},
   "outputs": [
    {
     "name": "stdout",
     "output_type": "stream",
     "text": [
      "Namespace(task='final', input_file='plot-scene-dataset.jsonl', metadata_file=None, output_file='plot-scene-dataset.jsonl', spec_file='final-plot-scene.json', spec_dir='./scratchplot-story-generation/movie_exp/scenes/', output_dir='./scratchplot-story-generation/movie_exp/scenes/')\n"
     ]
    }
   ],
   "source": [
    "!python ./scratchplot-story-generation/scripts/movie_plot/post_process.py --task final"
   ]
  },
  {
   "cell_type": "code",
   "execution_count": null,
   "id": "c2d65753",
   "metadata": {},
   "outputs": [],
   "source": []
  }
 ],
 "metadata": {
  "kernelspec": {
   "display_name": "master-thesis",
   "language": "python",
   "name": "master-thesis"
  },
  "language_info": {
   "codemirror_mode": {
    "name": "ipython",
    "version": 3
   },
   "file_extension": ".py",
   "mimetype": "text/x-python",
   "name": "python",
   "nbconvert_exporter": "python",
   "pygments_lexer": "ipython3",
   "version": "3.8.17"
  }
 },
 "nbformat": 4,
 "nbformat_minor": 5
}
