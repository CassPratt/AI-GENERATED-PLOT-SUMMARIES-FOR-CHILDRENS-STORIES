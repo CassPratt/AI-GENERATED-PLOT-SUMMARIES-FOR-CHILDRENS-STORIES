{
 "cells": [
  {
   "cell_type": "markdown",
   "id": "58d5a490",
   "metadata": {},
   "source": [
    "# Input generation for ScratchPlot\n",
    "\n",
    "Call to ChatGPT to generate the input for ScratchPlot in following format:\n",
    "\n",
    "\"Write a plot summary of a children's story featuring {character 1} and {character 2} in {location} with the main theme {theme}.\""
   ]
  },
  {
   "cell_type": "markdown",
   "id": "1528b386",
   "metadata": {},
   "source": [
    "## Libraries & packages"
   ]
  },
  {
   "cell_type": "code",
   "execution_count": 1,
   "id": "f6e6f646",
   "metadata": {},
   "outputs": [],
   "source": [
    "#!pip install -q openai"
   ]
  },
  {
   "cell_type": "code",
   "execution_count": 2,
   "id": "48a14ff5",
   "metadata": {
    "tags": []
   },
   "outputs": [],
   "source": [
    "import openai\n",
    "  \n",
    "openai.api_key = ''"
   ]
  },
  {
   "cell_type": "markdown",
   "id": "bf880c79",
   "metadata": {},
   "source": [
    "## Call ChatGPT API"
   ]
  },
  {
   "cell_type": "code",
   "execution_count": 3,
   "id": "f6123943",
   "metadata": {
    "tags": []
   },
   "outputs": [],
   "source": [
    "def clean_caption(caption):\n",
    "    return caption.replace('children\\'s drawing of ','').replace('\\'','\\\\\\'')"
   ]
  },
  {
   "cell_type": "code",
   "execution_count": 4,
   "id": "8958b71a",
   "metadata": {
    "tags": []
   },
   "outputs": [],
   "source": [
    "def call_chatgpt(instructions):\n",
    "    # Set a context for the ChatGPT API\n",
    "    messages = [ {\"role\": \"system\", \"content\": \"You are an intelligent assistant.\"} ]\n",
    "    if instructions:\n",
    "        messages.append(\n",
    "            {\"role\": \"user\", \"content\": instructions},\n",
    "        )\n",
    "        chat = openai.ChatCompletion.create(\n",
    "            model=\"gpt-3.5-turbo\", messages=messages\n",
    "        )\n",
    "      \n",
    "    reply = chat.choices[0].message.content\n",
    "    messages.append({\"role\": \"assistant\", \"content\": reply})\n",
    "    \n",
    "    return reply"
   ]
  },
  {
   "cell_type": "code",
   "execution_count": 5,
   "id": "43606529",
   "metadata": {
    "tags": []
   },
   "outputs": [],
   "source": [
    "def format_caption(instructions):\n",
    "    reply = call_chatgpt(instructions)\n",
    "    if '{character 1}' in reply or '{character 2}' in reply or '{location}' in reply or '{theme}' in reply:\n",
    "        reply = call_chatgpt(instructions)\n",
    "    return reply"
   ]
  },
  {
   "cell_type": "code",
   "execution_count": 39,
   "id": "ed5ca27b-9100-4187-804c-f49a30d17b56",
   "metadata": {
    "tags": []
   },
   "outputs": [],
   "source": [
    "time_format_input = []"
   ]
  },
  {
   "cell_type": "code",
   "execution_count": 40,
   "id": "a5eb30d3",
   "metadata": {
    "tags": []
   },
   "outputs": [],
   "source": [
    "def generate_scratchplot_input(base_instructions,captions=[]):\n",
    "    scratchplot_inputs = []\n",
    "    if len(captions) > 0:\n",
    "        for caption in captions:\n",
    "            cleaned_caption = clean_caption(caption)\n",
    "            instructions = base_instructions + caption\n",
    "            \n",
    "            import time\n",
    "            start = time.time()\n",
    "            reply = format_caption(instructions)\n",
    "            end = time.time()\n",
    "            time_format_input.append(end-start)\n",
    "            \n",
    "            scratchplot_inputs.append(reply)\n",
    "        return scratchplot_inputs\n",
    "    else:\n",
    "        return []"
   ]
  },
  {
   "cell_type": "code",
   "execution_count": 7,
   "id": "74cf0494",
   "metadata": {
    "tags": []
   },
   "outputs": [],
   "source": [
    "base_instructions = 'If existing, identify subjects, location and main theme in the given sentence. Subjects will be called \\\"characters\\\" as we will generate a children\\'s story based on the sentence content. If no subjects, location or main theme are provided, based on the sentence generate them, remember to only generate the ones that are missing in given sentence; these fields cannot be blank and all subjects or characters, locations and main themes should be suitable for children\\'s stories. With previous information obtained from given sentence, complete the following command by replacing the curly brackets with characters (1, 2, 3, etc.), location and main theme, modifying the command to match as many characters are identified: \\\"Write a plot summary of a children\\'s story featuring {character 1} and {character 2} in {location} with the main theme {theme}.\\\" Some sentences will mention a caption or title, do not include the caption in the command, use it only as a reference to obtain the main theme. Example of a sentence: a boy and mom with a dog. Generated command: \\\"Write a plot summary of a children\\'s story featuring a boy and his mom and a dog in an enchanted mansion with the main theme Family and Mistery\\\". Please show only the generated command and follow the format exactly. Sentence to analyze is: '"
   ]
  },
  {
   "cell_type": "code",
   "execution_count": 13,
   "id": "91ac33a4",
   "metadata": {
    "tags": []
   },
   "outputs": [],
   "source": [
    "captions = ['drawing of a woman\\'s face in a city with the title \" bob birkle \"',\n",
    "            'drawing of a pig with balloons and the title \" if you give a pig a party \"']\n",
    "\n",
    "cleaned_captions = []"
   ]
  },
  {
   "cell_type": "code",
   "execution_count": 14,
   "id": "43e07dd8",
   "metadata": {
    "tags": []
   },
   "outputs": [],
   "source": [
    "scratchplot_inputs = generate_scratchplot_input(base_instructions, captions)"
   ]
  },
  {
   "cell_type": "code",
   "execution_count": 15,
   "id": "4e83f3d5",
   "metadata": {
    "tags": []
   },
   "outputs": [
    {
     "data": {
      "text/plain": [
       "[\"Write a plot summary of a children's story featuring a woman's face, a city, and Bob Birkle in an adventure-filled urban setting with the main theme Creativity and Identity.\",\n",
       " \"Write a plot summary of a children's story featuring a pig and balloons in a fun-filled location with the main theme Celebration and Friendship.\"]"
      ]
     },
     "execution_count": 15,
     "metadata": {},
     "output_type": "execute_result"
    }
   ],
   "source": [
    "scratchplot_inputs"
   ]
  },
  {
   "cell_type": "code",
   "execution_count": 26,
   "id": "61777c35",
   "metadata": {
    "tags": []
   },
   "outputs": [],
   "source": [
    "story_base = 'Write a plot summary of a children\\'s story featuring a pig and balloons in a fun-filled location with the main theme Celebration and Friendship.'"
   ]
  },
  {
   "cell_type": "code",
   "execution_count": 27,
   "id": "b93cd1cb",
   "metadata": {
    "tags": []
   },
   "outputs": [],
   "source": [
    "story_scope = ' As it is a story for children, it does not use discriminatory, offensive, racist, religious language, or any topic that incites violence or hatred.'"
   ]
  },
  {
   "cell_type": "code",
   "execution_count": 28,
   "id": "e86cf6a1",
   "metadata": {
    "tags": []
   },
   "outputs": [],
   "source": [
    "story_previous = ['Title: The Joyful Journey of Sunny the Lion\\n\\nPlot Summary:\\n\\n\"The Joyful Journey of Sunny the Lion\" follows the adventures of Sunny, a happy and adventurous yellow lion living in the beautiful jungle of Harmony Grove. A symbol of joy and positivity, Sunny\\'s mission is to spread happiness to all the creatures he meets in the jungle.\\n\\nOne sunny morning, Sunny wakes up and notices that the jungle seems gloomier than usual. Determined to bring back the joyful spirit, he embarks on a quest to find the source of the sadness. Along the way, he encounters various jungle inhabitants, including Amy the mischievous monkey, Charlie the courageous cheetah, and Bella the wise owl.\\n\\nTogether, the group of newfound friends traverse streams, climb trees, and venture deep into the jungle to discover that the source of the sadness is a precious gemstone known as the \"Heart of Happiness.\" This valuable gem has been stolen by a grumpy Komodo dragon, Grumble.\\n\\nWith their combined wit and bravery, Sunny and his friends devise a plan to retrieve the Heart of Happiness. They navigate through obstacles, using their unique qualities to outsmart Grumble. During their endeavor, their friendship strengthens, symbolizing unity and support for one another.\\n\\nWhen they finally retrieve the gem, they quickly realize that happiness cannot be monopolized by a single gemstone; it is a feeling that resides within all living beings. Together, they exhibit the true meaning of happiness by sharing laughter, kindness, and generosity.\\n\\nWith the help of the Heart of Happiness, Sunny, Amy, Charlie, and Bella spread laughter, joy, and kindness throughout the jungle, transforming it into a vibrant and cheerful place once again. The animals of the jungle, inspired by their actions, follow their lead, creating a joyous atmosphere.\\n\\nAs the story concludes, Sunny and his friends learn valuable lessons about the importance of positivity, unity, and the power of spreading happiness. Their adventures teach children the significance of cherishing friendships, embracing diversity, and finding joy in the little things in life.\\n\\n\"The Joyful Journey of Sunny the Lion\" emphasizes the transformative power of happiness and adventure in fostering compassion, empathy, and positivity, reminding young readers of the importance of spreading joy to create a harmonious and loving world.',\n",
    "                  'Title: The Enchanting Expedition of Sunny the Lion\\n\\nPlot Summary:\\n\\n\"The Enchanting Expedition of Sunny the Lion\" takes young readers on a magical journey through the lush and vibrant jungle of Harmony Grove. In this heartwarming tale, Sunny, a bright and adventurous yellow lion, discovers the true essence of happiness and the wonders of adventure.\\n\\nSunny awakens one sunny morning in the jungle, only to find that all the animals seem gloomy and low-spirited. Determined to bring back joy and happiness, he sets off on an enchanting expedition to uncover the secret of true happiness. Along the way, he encounters a mischievous monkey named Amy, a courageous cheetah named Charlie, and a wise owl named Bella. Together, this newfound group of friends embarks on a quest to find the legendary \"Golden Star Tree.\"\\n\\nAs they journey deep into the jungle, Sunny and his friends face numerous challenges, including crossing treacherous rivers, climbing tall trees, and solving clever riddles. Each trial brings them closer to unraveling the mystery of the Golden Star Tree, which is said to possess the power to grant eternal happiness.\\n\\nTheir expedition leads them to various magical locations within the jungle, such as the sparkling Rainbow Falls, the mystical Whispering Meadows, and the captivating Glowworm Caves. Along the way, they encounter other jungle creatures who teach them valuable lessons of kindness, compassion, and gratitude.\\n\\nAs Sunny and his friends approach the final stage of their expedition, they encounter the guardian of the Golden Star Tree, a wise and ancient elephant named Eleora. Eleora imparts her wisdom to them, explaining that true happiness lies not in material possessions but in the connections they build, the moments they cherish, and the love they share.\\n\\nWith newfound understanding, Sunny and his friends reach the Golden Star Tree, where they discover that the tree does not possess a magical power after all. Instead, it symbolizes the magic of friendship, adventure, and the joy of exploration. They realize that true happiness comes from within, and that their journey together has been the real treasure all along.\\n\\nFilled with gratitude and joy, Sunny, Amy, Charlie, and Bella return to the jungle, transformed by their extraordinary expedition. Inspired by their experiences, they spread happiness and positivity among the other animals, creating an atmosphere of unity, love, and adventure throughout the jungle.\\n\\n\"The Enchanting Expedition of Sunny the Lion\" teaches children the importance of embracing adventure, valuing friendship, and finding happiness from within. It reminds young readers that real magic lies in the connections they make, the beauty of nature, and the joy of exploration. This delightful tale encourages children to seek happiness in their everyday lives, and to appreciate the wonders of the world around them.']"
   ]
  },
  {
   "cell_type": "code",
   "execution_count": 29,
   "id": "e87b4bf5",
   "metadata": {
    "tags": []
   },
   "outputs": [
    {
     "name": "stdout",
     "output_type": "stream",
     "text": [
      "51.41897630691528\n"
     ]
    }
   ],
   "source": [
    "import time\n",
    "\n",
    "start = time.time()\n",
    "\n",
    "childrens_story = call_chatgpt(story_base + story_scope)\n",
    "\n",
    "end = time.time()\n",
    "print(end - start)"
   ]
  },
  {
   "cell_type": "code",
   "execution_count": 30,
   "id": "6a23fbf0",
   "metadata": {
    "tags": []
   },
   "outputs": [
    {
     "name": "stdout",
     "output_type": "stream",
     "text": [
      "Title: \"Penny's Party Adventure\"\n",
      "\n",
      "Plot Summary:\n",
      "\"Penny's Party Adventure\" is a heartwarming children's story set in the colorful and lively town of Harmonyville. The story revolves around Penny, an adorable little pig who is known for her cheerfulness, kindness, and love for balloons.\n",
      "\n",
      "One fine morning, Penny wakes up to find a handwritten invitation tucked under her door. Curious and excited, she reads that her dear friend, Sammy the squirrel, is hosting a grand celebration in Friendship Park to commemorate the bond of friendships in Harmonyville.\n",
      "\n",
      "Eager to join in the fun, Penny sets off on her journey to Friendship Park, carrying a basket filled with brightly colored balloons. Along the way, she encounters a host of whimsical characters – Max the mischievous bunny, Lola the singing bird, and Oliver the well-meaning octopus. Each of them expresses their excitement for Sammy's celebration and eagerly joins Penny on her adventure to Friendship Park.\n",
      "\n",
      "As Penny and her newfound friends make their way through Harmonyville, they encounter a series of delightful challenges and obstacles. Through teamwork, creativity, and perseverance, they conquer each challenge and grow closer as friends. Along the way, they collect more balloons, adding a touch of magic to their journey.\n",
      "\n",
      "When they finally reach Friendship Park, they are greeted by a spectacular sight. The park is adorned with colorful decorations, and the air is filled with laughter, music, and the joyous chatter of the townspeople.\n",
      "\n",
      "Sammy warmly welcomes Penny and her friends, delightfully surprised by their arrival. Together, they participate in various celebratory activities, such as playing games, dancing, and enjoying delicious treats. Penny's balloons attract the attention of everyone, eliciting awe and wonderment.\n",
      "\n",
      "However, as the festivities wind down, Penny notices a little mouse named Mia, sitting alone on a park bench. Sensing her loneliness, Penny approaches Mia and offers her a balloon. Mia's face lights up with joy. Realizing the power of their friendship, Penny, Sammy, Max, Lola, Oliver, and Mia decide to organize a special celebration just for her.\n",
      "\n",
      "With their collective imagination and creativity, they transform Friendship Park into a fantastic wonderland, where everyone feels loved and included. The celebration is a resounding success, showcasing the true spirit of friendship and the power of small acts of kindness.\n",
      "\n",
      "\"Penny's Party Adventure\" concludes with Penny and her friends realizing that the true essence of celebration lies in fostering friendship, inclusivity, and making others feel valued. Surrounded by love and happiness, they understand the power of their actions in creating a harmonious and joyful community.\n",
      "\n",
      "This heartwarming tale teaches children the importance of celebrating friendship, kindness, and the joy of bringing happiness to others. Through colorful illustrations and playful storytelling, \"Penny's Party Adventure\" encourages children to embrace the values of friendship, compassion, and the joy of celebrating life with others.\n"
     ]
    }
   ],
   "source": [
    "print(childrens_story)"
   ]
  },
  {
   "cell_type": "markdown",
   "id": "2715f282-6880-4556-ab14-51ed0766c182",
   "metadata": {},
   "source": [
    "## Get average time of input command generation"
   ]
  },
  {
   "cell_type": "code",
   "execution_count": 31,
   "id": "4e5138d9-6d0c-4806-a295-70dcd1ea5561",
   "metadata": {
    "tags": []
   },
   "outputs": [],
   "source": [
    "import pandas as pd"
   ]
  },
  {
   "cell_type": "code",
   "execution_count": 32,
   "id": "2e76bb2d-9ef5-431a-bd83-ac0cc18ad9cc",
   "metadata": {
    "tags": []
   },
   "outputs": [],
   "source": [
    "# Set column names\n",
    "col_names = ['image_name','generated_caption']"
   ]
  },
  {
   "cell_type": "code",
   "execution_count": 34,
   "id": "a6dd53e4-3136-4db7-b54f-61059ba40fb9",
   "metadata": {
    "tags": []
   },
   "outputs": [],
   "source": [
    "# Read generated captions from model trained with greedy search\n",
    "df_greedy = pd.read_csv('childrensimages-caption-20231108.tsv',names=col_names,header=None,\n",
    "                         sep='\\t')"
   ]
  },
  {
   "cell_type": "code",
   "execution_count": 35,
   "id": "0e6df57a-a3ca-4945-a46b-fb70a71de41b",
   "metadata": {
    "tags": []
   },
   "outputs": [
    {
     "data": {
      "text/html": [
       "<div>\n",
       "<style scoped>\n",
       "    .dataframe tbody tr th:only-of-type {\n",
       "        vertical-align: middle;\n",
       "    }\n",
       "\n",
       "    .dataframe tbody tr th {\n",
       "        vertical-align: top;\n",
       "    }\n",
       "\n",
       "    .dataframe thead th {\n",
       "        text-align: right;\n",
       "    }\n",
       "</style>\n",
       "<table border=\"1\" class=\"dataframe\">\n",
       "  <thead>\n",
       "    <tr style=\"text-align: right;\">\n",
       "      <th></th>\n",
       "      <th>image_name</th>\n",
       "      <th>generated_caption</th>\n",
       "    </tr>\n",
       "  </thead>\n",
       "  <tbody>\n",
       "    <tr>\n",
       "      <th>0</th>\n",
       "      <td>0060086521.jpg</td>\n",
       "      <td>drawing of a boy and a girl in the snow with t...</td>\n",
       "    </tr>\n",
       "    <tr>\n",
       "      <th>1</th>\n",
       "      <td>0060099453.jpg</td>\n",
       "      <td>drawing of a mouse by a christmas tree with th...</td>\n",
       "    </tr>\n",
       "    <tr>\n",
       "      <th>2</th>\n",
       "      <td>0060283262.jpg</td>\n",
       "      <td>drawing of a pig with balloons and the title \"...</td>\n",
       "    </tr>\n",
       "    <tr>\n",
       "      <th>3</th>\n",
       "      <td>0060530898.jpg</td>\n",
       "      <td>drawing of children with animals in the toilet...</td>\n",
       "    </tr>\n",
       "    <tr>\n",
       "      <th>4</th>\n",
       "      <td>0062060090.jpg</td>\n",
       "      <td>drawing of a red monster with the title \" i am...</td>\n",
       "    </tr>\n",
       "  </tbody>\n",
       "</table>\n",
       "</div>"
      ],
      "text/plain": [
       "       image_name                                  generated_caption\n",
       "0  0060086521.jpg  drawing of a boy and a girl in the snow with t...\n",
       "1  0060099453.jpg  drawing of a mouse by a christmas tree with th...\n",
       "2  0060283262.jpg  drawing of a pig with balloons and the title \"...\n",
       "3  0060530898.jpg  drawing of children with animals in the toilet...\n",
       "4  0062060090.jpg  drawing of a red monster with the title \" i am..."
      ]
     },
     "execution_count": 35,
     "metadata": {},
     "output_type": "execute_result"
    }
   ],
   "source": [
    "df_greedy.head()"
   ]
  },
  {
   "cell_type": "code",
   "execution_count": 36,
   "id": "7c1d20a0-e47e-4fce-9fff-0b99b8c42e12",
   "metadata": {
    "tags": []
   },
   "outputs": [],
   "source": [
    "captions = df_greedy['generated_caption'].tolist()"
   ]
  },
  {
   "cell_type": "code",
   "execution_count": null,
   "id": "aff04c18-b5e7-4884-af26-df0c1a6bf7c9",
   "metadata": {
    "tags": []
   },
   "outputs": [],
   "source": [
    "scratchplot_inputs = generate_scratchplot_input(base_instructions, captions)"
   ]
  },
  {
   "cell_type": "code",
   "execution_count": 42,
   "id": "c5c0d2c0-b8fd-44f6-a102-28d49a501121",
   "metadata": {
    "tags": []
   },
   "outputs": [
    {
     "data": {
      "text/plain": [
       "3.086459692319234"
      ]
     },
     "execution_count": 42,
     "metadata": {},
     "output_type": "execute_result"
    }
   ],
   "source": [
    "sum(time_format_input) / len(time_format_input)"
   ]
  },
  {
   "cell_type": "code",
   "execution_count": 43,
   "id": "fb6a91fa-df86-47a4-911c-f064c5150528",
   "metadata": {
    "tags": []
   },
   "outputs": [
    {
     "data": {
      "text/plain": [
       "30"
      ]
     },
     "execution_count": 43,
     "metadata": {},
     "output_type": "execute_result"
    }
   ],
   "source": [
    "len(time_format_input)"
   ]
  },
  {
   "cell_type": "code",
   "execution_count": null,
   "id": "ff598b34-00ce-4783-8532-6e8d7175b551",
   "metadata": {},
   "outputs": [],
   "source": []
  }
 ],
 "metadata": {
  "kernelspec": {
   "display_name": "Python 3 (ipykernel)",
   "language": "python",
   "name": "python3"
  },
  "language_info": {
   "codemirror_mode": {
    "name": "ipython",
    "version": 3
   },
   "file_extension": ".py",
   "mimetype": "text/x-python",
   "name": "python",
   "nbconvert_exporter": "python",
   "pygments_lexer": "ipython3",
   "version": "3.11.5"
  }
 },
 "nbformat": 4,
 "nbformat_minor": 5
}
