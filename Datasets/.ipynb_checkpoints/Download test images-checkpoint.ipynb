{
 "cells": [
  {
   "cell_type": "markdown",
   "id": "e2d1f356",
   "metadata": {},
   "source": [
    "# Download test images\n",
    "Category 4 of dataset https://github.com/uchidalab/book-dataset/tree/master/Task1"
   ]
  },
  {
   "cell_type": "code",
   "execution_count": 7,
   "id": "1774a34f",
   "metadata": {},
   "outputs": [],
   "source": [
    "import pandas as pd\n",
    "import urllib.request"
   ]
  },
  {
   "cell_type": "code",
   "execution_count": 2,
   "id": "18b90931",
   "metadata": {},
   "outputs": [],
   "source": [
    "col_names = ['amazon_index','filename','image_url','title','author','category_id','category']\n",
    "df = pd.read_csv('book30-listing-test.csv', encoding = 'ISO-8859-1', names = col_names)"
   ]
  },
  {
   "cell_type": "code",
   "execution_count": 4,
   "id": "2da09320",
   "metadata": {},
   "outputs": [],
   "source": [
    "childrens_books = df[df['category_id']==4]"
   ]
  },
  {
   "cell_type": "code",
   "execution_count": 6,
   "id": "343f6bca",
   "metadata": {
    "scrolled": true
   },
   "outputs": [
    {
     "data": {
      "text/html": [
       "<div>\n",
       "<style scoped>\n",
       "    .dataframe tbody tr th:only-of-type {\n",
       "        vertical-align: middle;\n",
       "    }\n",
       "\n",
       "    .dataframe tbody tr th {\n",
       "        vertical-align: top;\n",
       "    }\n",
       "\n",
       "    .dataframe thead th {\n",
       "        text-align: right;\n",
       "    }\n",
       "</style>\n",
       "<table border=\"1\" class=\"dataframe\">\n",
       "  <thead>\n",
       "    <tr style=\"text-align: right;\">\n",
       "      <th></th>\n",
       "      <th>amazon_index</th>\n",
       "      <th>filename</th>\n",
       "      <th>image_url</th>\n",
       "      <th>title</th>\n",
       "      <th>author</th>\n",
       "      <th>category_id</th>\n",
       "      <th>category</th>\n",
       "    </tr>\n",
       "  </thead>\n",
       "  <tbody>\n",
       "    <tr>\n",
       "      <th>9</th>\n",
       "      <td>545700272</td>\n",
       "      <td>0545700272.jpg</td>\n",
       "      <td>http://ecx.images-amazon.com/images/I/51KyLXcz...</td>\n",
       "      <td>A Handful of Stars</td>\n",
       "      <td>Cynthia Lord</td>\n",
       "      <td>4</td>\n",
       "      <td>Children's Books</td>\n",
       "    </tr>\n",
       "    <tr>\n",
       "      <th>29</th>\n",
       "      <td>147514940</td>\n",
       "      <td>0147514940.jpg</td>\n",
       "      <td>http://ecx.images-amazon.com/images/I/51TI3FwV...</td>\n",
       "      <td>Fantasy League</td>\n",
       "      <td>Mike Lupica</td>\n",
       "      <td>4</td>\n",
       "      <td>Children's Books</td>\n",
       "    </tr>\n",
       "    <tr>\n",
       "      <th>40</th>\n",
       "      <td>688135765</td>\n",
       "      <td>0688135765.jpg</td>\n",
       "      <td>http://ecx.images-amazon.com/images/I/61gCGr0Y...</td>\n",
       "      <td>Shortcut</td>\n",
       "      <td>Donald Crews</td>\n",
       "      <td>4</td>\n",
       "      <td>Children's Books</td>\n",
       "    </tr>\n",
       "    <tr>\n",
       "      <th>55</th>\n",
       "      <td>618428852</td>\n",
       "      <td>0618428852.jpg</td>\n",
       "      <td>http://ecx.images-amazon.com/images/I/51N4hEjf...</td>\n",
       "      <td>United States History  Early Years (Level 5): ...</td>\n",
       "      <td>HOUGHTON MIFFLIN</td>\n",
       "      <td>4</td>\n",
       "      <td>Children's Books</td>\n",
       "    </tr>\n",
       "    <tr>\n",
       "      <th>74</th>\n",
       "      <td>763652326</td>\n",
       "      <td>0763652326.jpg</td>\n",
       "      <td>http://ecx.images-amazon.com/images/I/51gO81UQ...</td>\n",
       "      <td>Mercy Watson: Something Wonky this Way Comes</td>\n",
       "      <td>Kate DiCamillo</td>\n",
       "      <td>4</td>\n",
       "      <td>Children's Books</td>\n",
       "    </tr>\n",
       "  </tbody>\n",
       "</table>\n",
       "</div>"
      ],
      "text/plain": [
       "   amazon_index        filename  \\\n",
       "9     545700272  0545700272.jpg   \n",
       "29    147514940  0147514940.jpg   \n",
       "40    688135765  0688135765.jpg   \n",
       "55    618428852  0618428852.jpg   \n",
       "74    763652326  0763652326.jpg   \n",
       "\n",
       "                                            image_url  \\\n",
       "9   http://ecx.images-amazon.com/images/I/51KyLXcz...   \n",
       "29  http://ecx.images-amazon.com/images/I/51TI3FwV...   \n",
       "40  http://ecx.images-amazon.com/images/I/61gCGr0Y...   \n",
       "55  http://ecx.images-amazon.com/images/I/51N4hEjf...   \n",
       "74  http://ecx.images-amazon.com/images/I/51gO81UQ...   \n",
       "\n",
       "                                                title            author  \\\n",
       "9                                  A Handful of Stars      Cynthia Lord   \n",
       "29                                     Fantasy League       Mike Lupica   \n",
       "40                                           Shortcut      Donald Crews   \n",
       "55  United States History  Early Years (Level 5): ...  HOUGHTON MIFFLIN   \n",
       "74       Mercy Watson: Something Wonky this Way Comes    Kate DiCamillo   \n",
       "\n",
       "    category_id          category  \n",
       "9             4  Children's Books  \n",
       "29            4  Children's Books  \n",
       "40            4  Children's Books  \n",
       "55            4  Children's Books  \n",
       "74            4  Children's Books  "
      ]
     },
     "execution_count": 6,
     "metadata": {},
     "output_type": "execute_result"
    }
   ],
   "source": [
    "childrens_books.head()"
   ]
  },
  {
   "cell_type": "code",
   "execution_count": 16,
   "id": "3ae2b3e5",
   "metadata": {},
   "outputs": [],
   "source": [
    "for index, row in childrens_books.iterrows():\n",
    "    urllib.request.urlretrieve(row['image_url'],'childrens-books-test/'+row['filename'])"
   ]
  },
  {
   "cell_type": "code",
   "execution_count": null,
   "id": "8786d8c4",
   "metadata": {},
   "outputs": [],
   "source": []
  }
 ],
 "metadata": {
  "kernelspec": {
   "display_name": "Python 3 (ipykernel)",
   "language": "python",
   "name": "python3"
  },
  "language_info": {
   "codemirror_mode": {
    "name": "ipython",
    "version": 3
   },
   "file_extension": ".py",
   "mimetype": "text/x-python",
   "name": "python",
   "nbconvert_exporter": "python",
   "pygments_lexer": "ipython3",
   "version": "3.9.13"
  }
 },
 "nbformat": 4,
 "nbformat_minor": 5
}
