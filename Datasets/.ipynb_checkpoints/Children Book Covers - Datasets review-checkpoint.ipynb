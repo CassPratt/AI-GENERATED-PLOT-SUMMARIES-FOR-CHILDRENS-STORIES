{
 "cells": [
  {
   "cell_type": "code",
   "execution_count": 1,
   "id": "85c4ad04",
   "metadata": {},
   "outputs": [],
   "source": [
    "# Import modules and libraries\n",
    "import os\n",
    "from os import listdir\n",
    "\n",
    "import cv2"
   ]
  },
  {
   "cell_type": "markdown",
   "id": "9c8946ff",
   "metadata": {},
   "source": [
    "# 6000+ Children and Teen Book Covers\n",
    "https://www.kaggle.com/datasets/thomaskonstantin/6000-children-and-teen-book-covers"
   ]
  },
  {
   "cell_type": "code",
   "execution_count": 2,
   "id": "fc85687c",
   "metadata": {},
   "outputs": [],
   "source": [
    "dir_path = '.\\Children and Teen Book Covers'"
   ]
  },
  {
   "cell_type": "code",
   "execution_count": 3,
   "id": "5b63ed4d",
   "metadata": {},
   "outputs": [],
   "source": [
    "imgs_shapes = set()"
   ]
  },
  {
   "cell_type": "code",
   "execution_count": 4,
   "id": "8f2bdcd9",
   "metadata": {},
   "outputs": [],
   "source": [
    "# Iterate directory\n",
    "for file_path in os.listdir(dir_path):\n",
    "    # Check if file is an image\n",
    "    if (file_path.endswith(\".png\") or file_path.endswith(\".jpg\")\\\n",
    "        or file_path.endswith(\".jpeg\")):\n",
    "        # Get file full path (directory + file name)\n",
    "        file_full_path = os.path.join(dir_path, file_path)\n",
    "        # Read image with openCV\n",
    "        img = cv2.imread(file_full_path)\n",
    "        # Add image size to images shapes' set\n",
    "        imgs_shapes.add(img.shape)"
   ]
  },
  {
   "cell_type": "code",
   "execution_count": 5,
   "id": "5b47b947",
   "metadata": {
    "scrolled": true
   },
   "outputs": [
    {
     "data": {
      "text/plain": [
       "[(170, 71, 3),\n",
       " (170, 92, 3),\n",
       " (170, 96, 3),\n",
       " (170, 99, 3),\n",
       " (170, 100, 3),\n",
       " (170, 101, 3),\n",
       " (170, 102, 3),\n",
       " (170, 103, 3),\n",
       " (170, 104, 3),\n",
       " (170, 105, 3),\n",
       " (170, 106, 3),\n",
       " (170, 107, 3),\n",
       " (170, 108, 3),\n",
       " (170, 109, 3),\n",
       " (170, 110, 3),\n",
       " (170, 111, 3),\n",
       " (170, 112, 3),\n",
       " (170, 113, 3),\n",
       " (170, 114, 3),\n",
       " (170, 115, 3),\n",
       " (170, 116, 3),\n",
       " (170, 117, 3),\n",
       " (170, 118, 3),\n",
       " (170, 119, 3),\n",
       " (170, 120, 3),\n",
       " (170, 121, 3),\n",
       " (170, 122, 3),\n",
       " (170, 123, 3),\n",
       " (170, 124, 3),\n",
       " (170, 125, 3),\n",
       " (170, 126, 3),\n",
       " (170, 127, 3),\n",
       " (170, 128, 3),\n",
       " (170, 129, 3),\n",
       " (170, 130, 3),\n",
       " (170, 131, 3),\n",
       " (170, 132, 3),\n",
       " (170, 133, 3),\n",
       " (170, 134, 3),\n",
       " (170, 135, 3),\n",
       " (170, 136, 3),\n",
       " (170, 137, 3),\n",
       " (170, 138, 3),\n",
       " (170, 139, 3),\n",
       " (170, 140, 3),\n",
       " (170, 141, 3),\n",
       " (170, 142, 3),\n",
       " (170, 143, 3),\n",
       " (170, 144, 3),\n",
       " (170, 145, 3),\n",
       " (170, 146, 3),\n",
       " (170, 147, 3),\n",
       " (170, 148, 3),\n",
       " (170, 149, 3),\n",
       " (170, 150, 3),\n",
       " (170, 151, 3),\n",
       " (170, 152, 3),\n",
       " (170, 153, 3),\n",
       " (170, 154, 3),\n",
       " (170, 155, 3),\n",
       " (170, 156, 3),\n",
       " (170, 157, 3),\n",
       " (170, 158, 3),\n",
       " (170, 159, 3),\n",
       " (170, 160, 3),\n",
       " (170, 161, 3),\n",
       " (170, 162, 3),\n",
       " (170, 163, 3),\n",
       " (170, 164, 3),\n",
       " (170, 165, 3),\n",
       " (170, 166, 3),\n",
       " (170, 167, 3),\n",
       " (170, 168, 3),\n",
       " (170, 169, 3),\n",
       " (170, 170, 3),\n",
       " (170, 171, 3),\n",
       " (170, 172, 3),\n",
       " (170, 173, 3),\n",
       " (170, 174, 3),\n",
       " (170, 175, 3),\n",
       " (170, 176, 3),\n",
       " (170, 177, 3),\n",
       " (170, 178, 3),\n",
       " (170, 179, 3),\n",
       " (170, 180, 3),\n",
       " (170, 181, 3),\n",
       " (170, 182, 3),\n",
       " (170, 183, 3),\n",
       " (170, 184, 3),\n",
       " (170, 185, 3),\n",
       " (170, 186, 3),\n",
       " (170, 187, 3),\n",
       " (170, 188, 3),\n",
       " (170, 189, 3),\n",
       " (170, 190, 3),\n",
       " (170, 191, 3),\n",
       " (170, 192, 3),\n",
       " (170, 193, 3),\n",
       " (170, 194, 3),\n",
       " (170, 195, 3),\n",
       " (170, 196, 3),\n",
       " (170, 197, 3),\n",
       " (170, 198, 3),\n",
       " (170, 199, 3),\n",
       " (170, 200, 3),\n",
       " (170, 201, 3),\n",
       " (170, 202, 3),\n",
       " (170, 203, 3),\n",
       " (170, 204, 3),\n",
       " (170, 205, 3),\n",
       " (170, 206, 3),\n",
       " (170, 207, 3),\n",
       " (170, 208, 3),\n",
       " (170, 209, 3),\n",
       " (170, 210, 3),\n",
       " (170, 211, 3),\n",
       " (170, 212, 3),\n",
       " (170, 213, 3),\n",
       " (170, 214, 3),\n",
       " (170, 215, 3),\n",
       " (170, 216, 3),\n",
       " (170, 217, 3),\n",
       " (170, 218, 3),\n",
       " (170, 219, 3),\n",
       " (170, 220, 3),\n",
       " (170, 221, 3),\n",
       " (170, 222, 3),\n",
       " (170, 223, 3),\n",
       " (170, 224, 3),\n",
       " (170, 225, 3),\n",
       " (170, 226, 3),\n",
       " (170, 227, 3),\n",
       " (170, 229, 3),\n",
       " (170, 230, 3),\n",
       " (170, 231, 3),\n",
       " (170, 233, 3),\n",
       " (170, 234, 3),\n",
       " (170, 238, 3),\n",
       " (170, 239, 3),\n",
       " (170, 240, 3),\n",
       " (170, 241, 3),\n",
       " (170, 243, 3),\n",
       " (170, 244, 3),\n",
       " (170, 245, 3),\n",
       " (170, 246, 3),\n",
       " (170, 250, 3),\n",
       " (170, 257, 3),\n",
       " (170, 258, 3),\n",
       " (170, 261, 3),\n",
       " (170, 263, 3),\n",
       " (170, 266, 3),\n",
       " (170, 269, 3),\n",
       " (170, 271, 3),\n",
       " (170, 278, 3),\n",
       " (170, 280, 3),\n",
       " (170, 297, 3),\n",
       " (170, 302, 3),\n",
       " (170, 318, 3)]"
      ]
     },
     "execution_count": 5,
     "metadata": {},
     "output_type": "execute_result"
    }
   ],
   "source": [
    "sorted(imgs_shapes)"
   ]
  },
  {
   "cell_type": "code",
   "execution_count": 2,
   "id": "61df12c6",
   "metadata": {},
   "outputs": [],
   "source": [
    "from transformers import AutoProcessor, AutoModelForCausalLM\n",
    "import requests\n",
    "from PIL import Image\n",
    "\n",
    "processor = AutoProcessor.from_pretrained(\"microsoft/git-large-r-coco\")\n",
    "model = AutoModelForCausalLM.from_pretrained(\"microsoft/git-large-r-coco\")"
   ]
  },
  {
   "cell_type": "code",
   "execution_count": 3,
   "id": "170f081d",
   "metadata": {
    "scrolled": true
   },
   "outputs": [
    {
     "name": "stdout",
     "output_type": "stream",
     "text": [
      "a drop of blood book cover\n"
     ]
    }
   ],
   "source": [
    "img = os.path.join(dir_path, '9781406327137.jpg')\n",
    "image = Image.open(img)\n",
    "\n",
    "pixel_values = processor(images=image, return_tensors=\"pt\").pixel_values\n",
    "\n",
    "generated_ids = model.generate(pixel_values=pixel_values, max_length=50)\n",
    "generated_caption = processor.batch_decode(generated_ids, skip_special_tokens=True)[0]\n",
    "print(generated_caption)"
   ]
  },
  {
   "cell_type": "markdown",
   "id": "97964a92",
   "metadata": {},
   "source": [
    "# Book covers dataset by Luka Anicin\n",
    "https://www.kaggle.com/datasets/lukaanicin/book-covers-dataset"
   ]
  },
  {
   "cell_type": "code",
   "execution_count": 8,
   "id": "1632868f",
   "metadata": {},
   "outputs": [],
   "source": [
    "dir_path_luka = '.\\Childrens-Books'"
   ]
  },
  {
   "cell_type": "code",
   "execution_count": 9,
   "id": "08bcb1a1",
   "metadata": {},
   "outputs": [],
   "source": [
    "imgs_shapes_luka = set()"
   ]
  },
  {
   "cell_type": "code",
   "execution_count": 10,
   "id": "bbd44bae",
   "metadata": {},
   "outputs": [],
   "source": [
    "# Iterate directory\n",
    "for file_path in os.listdir(dir_path_luka):\n",
    "    # Check if file is an image\n",
    "    if (file_path.endswith(\".png\") or file_path.endswith(\".jpg\")\\\n",
    "        or file_path.endswith(\".jpeg\")):\n",
    "        # Get file full path (directory + file name)\n",
    "        file_full_path = os.path.join(dir_path_luka, file_path)\n",
    "        # Read image with openCV\n",
    "        img = cv2.imread(file_full_path)\n",
    "        # Add image size to images shapes' set\n",
    "        imgs_shapes_luka.add(img.shape)"
   ]
  },
  {
   "cell_type": "code",
   "execution_count": 11,
   "id": "35df1b3a",
   "metadata": {
    "scrolled": true
   },
   "outputs": [
    {
     "data": {
      "text/plain": [
       "[(84, 164, 3),\n",
       " (86, 171, 3),\n",
       " (87, 151, 3),\n",
       " (93, 193, 3),\n",
       " (97, 169, 3),\n",
       " (102, 168, 3),\n",
       " (109, 180, 3),\n",
       " (111, 127, 3),\n",
       " (114, 130, 3),\n",
       " (116, 168, 3),\n",
       " (120, 170, 3),\n",
       " (123, 175, 3),\n",
       " (126, 142, 3),\n",
       " (126, 186, 3),\n",
       " (127, 180, 3),\n",
       " (127, 205, 3),\n",
       " (128, 135, 3),\n",
       " (128, 180, 3),\n",
       " (129, 135, 3),\n",
       " (130, 180, 3),\n",
       " (131, 135, 3),\n",
       " (133, 180, 3),\n",
       " (134, 138, 3),\n",
       " (135, 180, 3),\n",
       " (136, 180, 3),\n",
       " (137, 125, 3),\n",
       " (137, 179, 3),\n",
       " (137, 180, 3),\n",
       " (138, 180, 3),\n",
       " (140, 180, 3),\n",
       " (141, 180, 3),\n",
       " (142, 180, 3),\n",
       " (143, 145, 3),\n",
       " (143, 180, 3),\n",
       " (144, 200, 3),\n",
       " (145, 147, 3),\n",
       " (145, 156, 3),\n",
       " (145, 180, 3),\n",
       " (146, 205, 3),\n",
       " (148, 180, 3),\n",
       " (149, 180, 3),\n",
       " (150, 205, 3),\n",
       " (152, 166, 3),\n",
       " (153, 180, 3),\n",
       " (153, 205, 3),\n",
       " (154, 171, 3),\n",
       " (154, 174, 3),\n",
       " (155, 155, 3),\n",
       " (155, 180, 3),\n",
       " (155, 200, 3),\n",
       " (156, 180, 3),\n",
       " (157, 180, 3),\n",
       " (158, 180, 3),\n",
       " (159, 205, 3),\n",
       " (160, 115, 3),\n",
       " (160, 159, 3),\n",
       " (160, 180, 3),\n",
       " (160, 205, 3),\n",
       " (161, 180, 3),\n",
       " (162, 180, 3),\n",
       " (163, 147, 3),\n",
       " (163, 180, 3),\n",
       " (164, 171, 3),\n",
       " (164, 180, 3),\n",
       " (164, 205, 3),\n",
       " (167, 174, 3),\n",
       " (168, 205, 3),\n",
       " (169, 169, 3),\n",
       " (169, 180, 3),\n",
       " (170, 110, 3),\n",
       " (170, 152, 3),\n",
       " (171, 171, 3),\n",
       " (171, 193, 3),\n",
       " (172, 161, 3),\n",
       " (172, 180, 3),\n",
       " (172, 190, 3),\n",
       " (172, 205, 3),\n",
       " (173, 116, 3),\n",
       " (173, 181, 3),\n",
       " (174, 124, 3),\n",
       " (174, 128, 3),\n",
       " (175, 127, 3),\n",
       " (175, 180, 3),\n",
       " (175, 194, 3),\n",
       " (175, 195, 3),\n",
       " (176, 150, 3),\n",
       " (176, 180, 3),\n",
       " (178, 180, 3),\n",
       " (179, 178, 3),\n",
       " (179, 180, 3),\n",
       " (180, 121, 3),\n",
       " (180, 180, 3),\n",
       " (181, 121, 3),\n",
       " (181, 152, 3),\n",
       " (181, 180, 3),\n",
       " (183, 123, 3),\n",
       " (183, 180, 3),\n",
       " (184, 205, 3),\n",
       " (185, 146, 3),\n",
       " (185, 180, 3),\n",
       " (185, 205, 3),\n",
       " (186, 129, 3),\n",
       " (186, 180, 3),\n",
       " (186, 184, 3),\n",
       " (186, 205, 3),\n",
       " (187, 200, 3),\n",
       " (188, 132, 3),\n",
       " (188, 189, 3),\n",
       " (189, 124, 3),\n",
       " (189, 180, 3),\n",
       " (190, 180, 3),\n",
       " (191, 136, 3),\n",
       " (192, 180, 3),\n",
       " (192, 193, 3),\n",
       " (192, 198, 3),\n",
       " (193, 124, 3),\n",
       " (193, 126, 3),\n",
       " (193, 205, 3),\n",
       " (194, 143, 3),\n",
       " (194, 195, 3),\n",
       " (194, 205, 3),\n",
       " (195, 133, 3),\n",
       " (195, 158, 3),\n",
       " (197, 146, 3),\n",
       " (197, 180, 3),\n",
       " (197, 183, 3),\n",
       " (198, 148, 3),\n",
       " (198, 176, 3),\n",
       " (198, 180, 3),\n",
       " (198, 200, 3),\n",
       " (198, 205, 3),\n",
       " (199, 152, 3),\n",
       " (199, 189, 3),\n",
       " (199, 200, 3),\n",
       " (199, 205, 3),\n",
       " (200, 126, 3),\n",
       " (200, 133, 3),\n",
       " (200, 154, 3),\n",
       " (200, 160, 3),\n",
       " (200, 161, 3),\n",
       " (200, 180, 3),\n",
       " (200, 200, 3),\n",
       " (200, 205, 3),\n",
       " (201, 205, 3),\n",
       " (202, 181, 3),\n",
       " (203, 123, 3),\n",
       " (203, 135, 3),\n",
       " (203, 152, 3),\n",
       " (203, 153, 3),\n",
       " (203, 168, 3),\n",
       " (203, 180, 3),\n",
       " (203, 200, 3),\n",
       " (203, 205, 3),\n",
       " (204, 113, 3),\n",
       " (204, 144, 3),\n",
       " (204, 180, 3),\n",
       " (204, 196, 3),\n",
       " (204, 200, 3),\n",
       " (204, 203, 3),\n",
       " (204, 205, 3),\n",
       " (205, 127, 3),\n",
       " (205, 129, 3),\n",
       " (205, 132, 3),\n",
       " (205, 133, 3),\n",
       " (205, 134, 3),\n",
       " (205, 135, 3),\n",
       " (205, 137, 3),\n",
       " (205, 138, 3),\n",
       " (205, 140, 3),\n",
       " (205, 143, 3),\n",
       " (205, 146, 3),\n",
       " (205, 148, 3),\n",
       " (205, 151, 3),\n",
       " (205, 152, 3),\n",
       " (205, 159, 3),\n",
       " (205, 161, 3),\n",
       " (205, 165, 3),\n",
       " (205, 172, 3),\n",
       " (205, 177, 3),\n",
       " (205, 180, 3),\n",
       " (205, 183, 3),\n",
       " (205, 189, 3),\n",
       " (205, 195, 3),\n",
       " (205, 199, 3),\n",
       " (205, 201, 3),\n",
       " (205, 202, 3),\n",
       " (205, 203, 3),\n",
       " (205, 204, 3),\n",
       " (205, 205, 3),\n",
       " (206, 139, 3),\n",
       " (206, 180, 3),\n",
       " (206, 192, 3),\n",
       " (206, 193, 3),\n",
       " (206, 205, 3),\n",
       " (207, 148, 3),\n",
       " (207, 157, 3),\n",
       " (207, 205, 3),\n",
       " (208, 200, 3),\n",
       " (209, 129, 3),\n",
       " (209, 135, 3),\n",
       " (210, 139, 3),\n",
       " (210, 150, 3),\n",
       " (210, 166, 3),\n",
       " (210, 180, 3),\n",
       " (210, 196, 3),\n",
       " (210, 200, 3),\n",
       " (210, 205, 3),\n",
       " (211, 128, 3),\n",
       " (211, 134, 3),\n",
       " (211, 137, 3),\n",
       " (211, 172, 3),\n",
       " (211, 180, 3),\n",
       " (211, 201, 3),\n",
       " (212, 126, 3),\n",
       " (212, 137, 3),\n",
       " (212, 141, 3),\n",
       " (212, 147, 3),\n",
       " (212, 163, 3),\n",
       " (212, 180, 3),\n",
       " (212, 185, 3),\n",
       " (212, 197, 3),\n",
       " (212, 205, 3),\n",
       " (213, 144, 3),\n",
       " (213, 147, 3),\n",
       " (213, 160, 3),\n",
       " (213, 180, 3),\n",
       " (214, 122, 3),\n",
       " (214, 143, 3),\n",
       " (214, 180, 3),\n",
       " (214, 183, 3),\n",
       " (215, 132, 3),\n",
       " (215, 134, 3),\n",
       " (215, 135, 3),\n",
       " (215, 136, 3),\n",
       " (215, 137, 3),\n",
       " (215, 138, 3),\n",
       " (215, 139, 3),\n",
       " (215, 140, 3),\n",
       " (215, 141, 3),\n",
       " (215, 142, 3),\n",
       " (215, 143, 3),\n",
       " (215, 144, 3),\n",
       " (215, 145, 3),\n",
       " (215, 146, 3),\n",
       " (215, 147, 3),\n",
       " (215, 152, 3),\n",
       " (215, 155, 3),\n",
       " (215, 156, 3),\n",
       " (215, 161, 3),\n",
       " (215, 163, 3),\n",
       " (215, 166, 3),\n",
       " (215, 167, 3),\n",
       " (215, 168, 3),\n",
       " (215, 170, 3),\n",
       " (215, 171, 3),\n",
       " (215, 172, 3),\n",
       " (215, 173, 3),\n",
       " (215, 175, 3),\n",
       " (215, 180, 3),\n",
       " (215, 182, 3),\n",
       " (215, 185, 3),\n",
       " (215, 187, 3),\n",
       " (215, 205, 3),\n",
       " (216, 140, 3),\n",
       " (216, 141, 3),\n",
       " (216, 144, 3),\n",
       " (216, 172, 3),\n",
       " (216, 180, 3),\n",
       " (216, 200, 3),\n",
       " (217, 180, 3),\n",
       " (217, 205, 3),\n",
       " (218, 149, 3),\n",
       " (218, 180, 3),\n",
       " (218, 216, 3),\n",
       " (219, 144, 3),\n",
       " (219, 149, 3),\n",
       " (219, 169, 3),\n",
       " (219, 176, 3),\n",
       " (220, 124, 3),\n",
       " (220, 125, 3),\n",
       " (220, 126, 3),\n",
       " (220, 131, 3),\n",
       " (220, 132, 3),\n",
       " (220, 133, 3),\n",
       " (220, 134, 3),\n",
       " (220, 135, 3),\n",
       " (220, 136, 3),\n",
       " (220, 137, 3),\n",
       " (220, 138, 3),\n",
       " (220, 139, 3),\n",
       " (220, 140, 3),\n",
       " (220, 141, 3),\n",
       " (220, 142, 3),\n",
       " (220, 143, 3),\n",
       " (220, 144, 3),\n",
       " (220, 145, 3),\n",
       " (220, 146, 3),\n",
       " (220, 147, 3),\n",
       " (220, 148, 3),\n",
       " (220, 149, 3),\n",
       " (220, 150, 3),\n",
       " (220, 151, 3),\n",
       " (220, 152, 3),\n",
       " (220, 153, 3),\n",
       " (220, 154, 3),\n",
       " (220, 155, 3),\n",
       " (220, 156, 3),\n",
       " (220, 157, 3),\n",
       " (220, 158, 3),\n",
       " (220, 159, 3),\n",
       " (220, 160, 3),\n",
       " (220, 161, 3),\n",
       " (220, 162, 3),\n",
       " (220, 163, 3),\n",
       " (220, 164, 3),\n",
       " (220, 165, 3),\n",
       " (220, 166, 3),\n",
       " (220, 167, 3),\n",
       " (220, 168, 3),\n",
       " (220, 169, 3),\n",
       " (220, 170, 3),\n",
       " (220, 171, 3),\n",
       " (220, 172, 3),\n",
       " (220, 173, 3),\n",
       " (220, 174, 3),\n",
       " (220, 175, 3),\n",
       " (220, 176, 3),\n",
       " (220, 177, 3),\n",
       " (220, 178, 3),\n",
       " (220, 179, 3),\n",
       " (220, 180, 3),\n",
       " (220, 181, 3),\n",
       " (220, 182, 3),\n",
       " (220, 185, 3),\n",
       " (220, 186, 3),\n",
       " (220, 188, 3),\n",
       " (220, 189, 3),\n",
       " (220, 195, 3),\n",
       " (220, 196, 3),\n",
       " (220, 197, 3),\n",
       " (220, 200, 3),\n",
       " (220, 201, 3),\n",
       " (220, 210, 3),\n",
       " (220, 211, 3),\n",
       " (220, 212, 3),\n",
       " (220, 214, 3),\n",
       " (220, 215, 3),\n",
       " (220, 218, 3),\n",
       " (220, 219, 3)]"
      ]
     },
     "execution_count": 11,
     "metadata": {},
     "output_type": "execute_result"
    }
   ],
   "source": [
    "sorted(imgs_shapes_luka)"
   ]
  },
  {
   "cell_type": "code",
   "execution_count": 12,
   "id": "2793d6e6",
   "metadata": {},
   "outputs": [
    {
     "name": "stdout",
     "output_type": "stream",
     "text": [
      "the heart and the bottle\n"
     ]
    }
   ],
   "source": [
    "img = os.path.join(dir_path_luka, '0000828.jpg')\n",
    "image = Image.open(img)\n",
    "\n",
    "pixel_values = processor(images=image, return_tensors=\"pt\").pixel_values\n",
    "\n",
    "generated_ids = model.generate(pixel_values=pixel_values, max_length=50)\n",
    "generated_caption = processor.batch_decode(generated_ids, skip_special_tokens=True)[0]\n",
    "print(generated_caption)"
   ]
  },
  {
   "cell_type": "markdown",
   "id": "5af3e3d8",
   "metadata": {},
   "source": [
    "# Book cover dataset by Uchida Lab\n",
    "https://github.com/uchidalab/book-dataset"
   ]
  },
  {
   "cell_type": "code",
   "execution_count": 26,
   "id": "816eed92",
   "metadata": {},
   "outputs": [],
   "source": [
    "dir_path_uchida_children = '.\\\\book-dataset-uchidalab\\\\childrens-books'"
   ]
  },
  {
   "cell_type": "code",
   "execution_count": 35,
   "id": "066423e6",
   "metadata": {},
   "outputs": [],
   "source": [
    "dir_path_uchida = '.\\\\book-dataset-uchidalab\\\\224x224'"
   ]
  },
  {
   "cell_type": "code",
   "execution_count": 28,
   "id": "abcd22b3",
   "metadata": {},
   "outputs": [],
   "source": [
    "import pandas as pd"
   ]
  },
  {
   "cell_type": "code",
   "execution_count": 29,
   "id": "397cfae2",
   "metadata": {},
   "outputs": [],
   "source": [
    "col_names = ['amazon_index','filename','image_url','title','author','category_id','category']\n",
    "df = pd.read_csv('book-dataset-uchidalab\\\\book30-listing-train.csv', encoding = 'ISO-8859-1', names = col_names)"
   ]
  },
  {
   "cell_type": "code",
   "execution_count": 30,
   "id": "bd75d7d6",
   "metadata": {
    "scrolled": true
   },
   "outputs": [],
   "source": [
    "childrens_books = df[df['category_id']==4]"
   ]
  },
  {
   "cell_type": "code",
   "execution_count": 31,
   "id": "ef08ac8e",
   "metadata": {},
   "outputs": [],
   "source": [
    "childrens_books = childrens_books[['amazon_index','filename','title','author']]"
   ]
  },
  {
   "cell_type": "code",
   "execution_count": 32,
   "id": "c306e9a3",
   "metadata": {
    "scrolled": false
   },
   "outputs": [
    {
     "data": {
      "text/html": [
       "<div>\n",
       "<style scoped>\n",
       "    .dataframe tbody tr th:only-of-type {\n",
       "        vertical-align: middle;\n",
       "    }\n",
       "\n",
       "    .dataframe tbody tr th {\n",
       "        vertical-align: top;\n",
       "    }\n",
       "\n",
       "    .dataframe thead th {\n",
       "        text-align: right;\n",
       "    }\n",
       "</style>\n",
       "<table border=\"1\" class=\"dataframe\">\n",
       "  <thead>\n",
       "    <tr style=\"text-align: right;\">\n",
       "      <th></th>\n",
       "      <th>amazon_index</th>\n",
       "      <th>filename</th>\n",
       "      <th>title</th>\n",
       "      <th>author</th>\n",
       "    </tr>\n",
       "  </thead>\n",
       "  <tbody>\n",
       "    <tr>\n",
       "      <th>1</th>\n",
       "      <td>1404803335</td>\n",
       "      <td>1404803335.jpg</td>\n",
       "      <td>Magnets: Pulling Together, Pushing Apart (Amaz...</td>\n",
       "      <td>Natalie M. Rosinsky</td>\n",
       "    </tr>\n",
       "    <tr>\n",
       "      <th>15</th>\n",
       "      <td>471310115</td>\n",
       "      <td>0471310115.jpg</td>\n",
       "      <td>Janice VanCleave's 201 Awesome, Magical, Bizar...</td>\n",
       "      <td>Janice VanCleave</td>\n",
       "    </tr>\n",
       "    <tr>\n",
       "      <th>33</th>\n",
       "      <td>898706009</td>\n",
       "      <td>0898706009.jpg</td>\n",
       "      <td>The Cure of Ars: The Priest Who Out-Talked the...</td>\n",
       "      <td>Milton Lomask</td>\n",
       "    </tr>\n",
       "    <tr>\n",
       "      <th>40</th>\n",
       "      <td>859531414</td>\n",
       "      <td>0859531414.jpg</td>\n",
       "      <td>Five Little Ducks (Classic Books With Holes)</td>\n",
       "      <td>Annie Kubler</td>\n",
       "    </tr>\n",
       "    <tr>\n",
       "      <th>46</th>\n",
       "      <td>30683734</td>\n",
       "      <td>0030683734.jpg</td>\n",
       "      <td>Elements of Literature: Student Edition Grade ...</td>\n",
       "      <td>RINEHART AND WINSTON HOLT</td>\n",
       "    </tr>\n",
       "    <tr>\n",
       "      <th>47</th>\n",
       "      <td>375858938</td>\n",
       "      <td>0375858938.jpg</td>\n",
       "      <td>Discovery in the Cave (Step into Reading)</td>\n",
       "      <td>Mark Dubowski</td>\n",
       "    </tr>\n",
       "    <tr>\n",
       "      <th>85</th>\n",
       "      <td>811858030</td>\n",
       "      <td>0811858030.jpg</td>\n",
       "      <td>Charlotte in Giverny</td>\n",
       "      <td>Joan MacPhail Knight</td>\n",
       "    </tr>\n",
       "    <tr>\n",
       "      <th>93</th>\n",
       "      <td>471219819</td>\n",
       "      <td>0471219819.jpg</td>\n",
       "      <td>The Maya: Activities and Crafts from a Mysteri...</td>\n",
       "      <td>Arlette N. Braman</td>\n",
       "    </tr>\n",
       "    <tr>\n",
       "      <th>100</th>\n",
       "      <td>894908243</td>\n",
       "      <td>0894908243.jpg</td>\n",
       "      <td>Bill Gates: Billionaire Computer Genius (Peopl...</td>\n",
       "      <td>Joan D. Dickinson</td>\n",
       "    </tr>\n",
       "    <tr>\n",
       "      <th>110</th>\n",
       "      <td>1567924212</td>\n",
       "      <td>1567924212.jpg</td>\n",
       "      <td>Swallowdale (Swallows and Amazons)</td>\n",
       "      <td>Arthur Ransome</td>\n",
       "    </tr>\n",
       "  </tbody>\n",
       "</table>\n",
       "</div>"
      ],
      "text/plain": [
       "    amazon_index        filename  \\\n",
       "1     1404803335  1404803335.jpg   \n",
       "15     471310115  0471310115.jpg   \n",
       "33     898706009  0898706009.jpg   \n",
       "40     859531414  0859531414.jpg   \n",
       "46      30683734  0030683734.jpg   \n",
       "47     375858938  0375858938.jpg   \n",
       "85     811858030  0811858030.jpg   \n",
       "93     471219819  0471219819.jpg   \n",
       "100    894908243  0894908243.jpg   \n",
       "110   1567924212  1567924212.jpg   \n",
       "\n",
       "                                                 title  \\\n",
       "1    Magnets: Pulling Together, Pushing Apart (Amaz...   \n",
       "15   Janice VanCleave's 201 Awesome, Magical, Bizar...   \n",
       "33   The Cure of Ars: The Priest Who Out-Talked the...   \n",
       "40        Five Little Ducks (Classic Books With Holes)   \n",
       "46   Elements of Literature: Student Edition Grade ...   \n",
       "47           Discovery in the Cave (Step into Reading)   \n",
       "85                                Charlotte in Giverny   \n",
       "93   The Maya: Activities and Crafts from a Mysteri...   \n",
       "100  Bill Gates: Billionaire Computer Genius (Peopl...   \n",
       "110                 Swallowdale (Swallows and Amazons)   \n",
       "\n",
       "                        author  \n",
       "1          Natalie M. Rosinsky  \n",
       "15            Janice VanCleave  \n",
       "33               Milton Lomask  \n",
       "40                Annie Kubler  \n",
       "46   RINEHART AND WINSTON HOLT  \n",
       "47               Mark Dubowski  \n",
       "85        Joan MacPhail Knight  \n",
       "93           Arlette N. Braman  \n",
       "100          Joan D. Dickinson  \n",
       "110             Arthur Ransome  "
      ]
     },
     "execution_count": 32,
     "metadata": {},
     "output_type": "execute_result"
    }
   ],
   "source": [
    "childrens_books.head(10)"
   ]
  },
  {
   "cell_type": "markdown",
   "id": "38048b29",
   "metadata": {},
   "source": [
    "Look for images in main directory"
   ]
  },
  {
   "cell_type": "code",
   "execution_count": 33,
   "id": "a0af38a8",
   "metadata": {},
   "outputs": [],
   "source": [
    "filename_list = list(childrens_books.filename)"
   ]
  },
  {
   "cell_type": "code",
   "execution_count": 41,
   "id": "ec2f4d61",
   "metadata": {},
   "outputs": [],
   "source": [
    "files_to_copy = []"
   ]
  },
  {
   "cell_type": "code",
   "execution_count": 42,
   "id": "595f0f6f",
   "metadata": {},
   "outputs": [],
   "source": [
    "# Iterate directory\n",
    "for file_path in os.listdir(dir_path_uchida):\n",
    "    # Check if file is an image\n",
    "    if (file_path.endswith(\".png\") or file_path.endswith(\".jpg\")\\\n",
    "        or file_path.endswith(\".jpeg\")):\n",
    "        if file_path in filename_list:\n",
    "            file_full_path = os.path.join(dir_path_uchida, file_path)\n",
    "            files_to_copy.append(file_full_path)"
   ]
  },
  {
   "cell_type": "code",
   "execution_count": 43,
   "id": "3668fc06",
   "metadata": {},
   "outputs": [
    {
     "data": {
      "text/plain": [
       "1710"
      ]
     },
     "execution_count": 43,
     "metadata": {},
     "output_type": "execute_result"
    }
   ],
   "source": [
    "len(files_to_copy)"
   ]
  },
  {
   "cell_type": "code",
   "execution_count": 47,
   "id": "7f2e3921",
   "metadata": {},
   "outputs": [
    {
     "data": {
      "text/plain": [
       "'0001956604.jpg'"
      ]
     },
     "execution_count": 47,
     "metadata": {},
     "output_type": "execute_result"
    }
   ],
   "source": [
    "files_to_copy[0].split('\\\\')[-1]"
   ]
  },
  {
   "cell_type": "code",
   "execution_count": 49,
   "id": "395d6e27",
   "metadata": {},
   "outputs": [],
   "source": [
    "import shutil\n",
    "\n",
    "for file in files_to_copy:\n",
    "    dest_path = os.path.join(dir_path_uchida_children, file.split('\\\\')[-1])\n",
    "    shutil.copyfile(file, dest_path)"
   ]
  },
  {
   "cell_type": "code",
   "execution_count": 54,
   "id": "8afd0b6d",
   "metadata": {},
   "outputs": [
    {
     "name": "stdout",
     "output_type": "stream",
     "text": [
      "a drop of blood book cover\n"
     ]
    }
   ],
   "source": [
    "img = os.path.join(dir_path_uchida_children, '006009110X.jpg')\n",
    "image = Image.open(img)\n",
    "\n",
    "pixel_values = processor(images=image, return_tensors=\"pt\").pixel_values\n",
    "\n",
    "generated_ids = model.generate(pixel_values=pixel_values, max_length=50)\n",
    "generated_caption = processor.batch_decode(generated_ids, skip_special_tokens=True)[0]\n",
    "print(generated_caption)"
   ]
  },
  {
   "cell_type": "code",
   "execution_count": 51,
   "id": "fbe5aacd",
   "metadata": {},
   "outputs": [],
   "source": [
    "imgs_shapes_uchida = set()"
   ]
  },
  {
   "cell_type": "code",
   "execution_count": 52,
   "id": "eac48937",
   "metadata": {},
   "outputs": [],
   "source": [
    "# Iterate directory\n",
    "for file_path in os.listdir(dir_path_uchida_children):\n",
    "    # Check if file is an image\n",
    "    if (file_path.endswith(\".png\") or file_path.endswith(\".jpg\")\\\n",
    "        or file_path.endswith(\".jpeg\")):\n",
    "        # Get file full path (directory + file name)\n",
    "        file_full_path = os.path.join(dir_path_uchida_children, file_path)\n",
    "        # Read image with openCV\n",
    "        img = cv2.imread(file_full_path)\n",
    "        # Add image size to images shapes' set\n",
    "        imgs_shapes_uchida.add(img.shape)"
   ]
  },
  {
   "cell_type": "code",
   "execution_count": 53,
   "id": "42694d09",
   "metadata": {},
   "outputs": [
    {
     "data": {
      "text/plain": [
       "[(224, 224, 3)]"
      ]
     },
     "execution_count": 53,
     "metadata": {},
     "output_type": "execute_result"
    }
   ],
   "source": [
    "sorted(imgs_shapes_uchida)"
   ]
  },
  {
   "cell_type": "markdown",
   "id": "8440c146",
   "metadata": {},
   "source": [
    "# Testing"
   ]
  },
  {
   "cell_type": "code",
   "execution_count": 2,
   "id": "bf651ea3",
   "metadata": {},
   "outputs": [],
   "source": [
    "from transformers import AutoProcessor, AutoModelForCausalLM\n",
    "import requests\n",
    "from PIL import Image\n",
    "\n",
    "processor = AutoProcessor.from_pretrained(\"microsoft/git-large-r-coco\")\n",
    "model = AutoModelForCausalLM.from_pretrained(\"microsoft/git-large-r-coco\")"
   ]
  },
  {
   "cell_type": "code",
   "execution_count": 3,
   "id": "78644ccc",
   "metadata": {
    "scrolled": true
   },
   "outputs": [
    {
     "name": "stdout",
     "output_type": "stream",
     "text": [
      "a drop of blood book cover\n"
     ]
    }
   ],
   "source": [
    "img = os.path.join('DropOfBlood-Original.jpg')\n",
    "image = Image.open(img)\n",
    "\n",
    "pixel_values = processor(images=image, return_tensors=\"pt\").pixel_values\n",
    "\n",
    "generated_ids = model.generate(pixel_values=pixel_values, max_length=50)\n",
    "generated_caption = processor.batch_decode(generated_ids, skip_special_tokens=True)[0]\n",
    "print(generated_caption)"
   ]
  },
  {
   "cell_type": "code",
   "execution_count": 5,
   "id": "91e99609",
   "metadata": {
    "scrolled": true
   },
   "outputs": [
    {
     "name": "stdout",
     "output_type": "stream",
     "text": [
      "the cover of the book the vampire and the house of horror\n"
     ]
    }
   ],
   "source": [
    "img = os.path.join('DropOfBlood-Edited.jpg')\n",
    "image = Image.open(img)\n",
    "\n",
    "pixel_values = processor(images=image, return_tensors=\"pt\").pixel_values\n",
    "\n",
    "generated_ids = model.generate(pixel_values=pixel_values, max_length=50)\n",
    "generated_caption = processor.batch_decode(generated_ids, skip_special_tokens=True)[0]\n",
    "print(generated_caption)"
   ]
  },
  {
   "cell_type": "code",
   "execution_count": null,
   "id": "adb2446a",
   "metadata": {},
   "outputs": [],
   "source": []
  }
 ],
 "metadata": {
  "kernelspec": {
   "display_name": "Python 3 (ipykernel)",
   "language": "python",
   "name": "python3"
  },
  "language_info": {
   "codemirror_mode": {
    "name": "ipython",
    "version": 3
   },
   "file_extension": ".py",
   "mimetype": "text/x-python",
   "name": "python",
   "nbconvert_exporter": "python",
   "pygments_lexer": "ipython3",
   "version": "3.9.13"
  }
 },
 "nbformat": 4,
 "nbformat_minor": 5
}
